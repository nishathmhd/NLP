{
  "cells": [
    {
      "cell_type": "code",
      "execution_count": 22,
      "metadata": {
        "id": "En0eLqGPK6U0"
      },
      "outputs": [],
      "source": [
        "import pandas as pd\n",
        "import numpy as np\n",
        "import re\n",
        "import nltk\n",
        "from sklearn.model_selection import train_test_split\n",
        "from sklearn.metrics import accuracy_score, classification_report\n",
        "from nltk.tokenize import word_tokenize\n",
        "from nltk.corpus import stopwords\n",
        "from nltk.stem import WordNetLemmatizer\n",
        "import tensorflow as tf\n",
        "from tensorflow.keras.preprocessing.text import Tokenizer\n",
        "from tensorflow.keras.preprocessing.sequence import pad_sequences\n",
        "from tensorflow.keras.models import Sequential\n",
        "from tensorflow.keras.layers import Embedding, LSTM, GRU, Conv1D, GlobalMaxPooling1D, Dense, Bidirectional, Dropout\n"
      ]
    },
    {
      "cell_type": "code",
      "execution_count": 4,
      "metadata": {
        "id": "piTxEbyUOTMw"
      },
      "outputs": [],
      "source": [
        "# Step 1: Load and Inspect the Data\n",
        "file_path = 'rct_data.txt'\n",
        "data = pd.read_csv(file_path, delimiter='\\t', header=None, names=['ID', 'Label', 'Year', 'Title', 'Abstract'])"
      ]
    },
    {
      "cell_type": "code",
      "execution_count": 5,
      "metadata": {
        "colab": {
          "base_uri": "https://localhost:8080/"
        },
        "id": "b-Zh9slqLBPU",
        "outputId": "b64a47af-a64e-4e91-c120-0a021f3231b2"
      },
      "outputs": [
        {
          "output_type": "stream",
          "name": "stderr",
          "text": [
            "[nltk_data] Downloading package punkt to /root/nltk_data...\n",
            "[nltk_data]   Unzipping tokenizers/punkt.zip.\n",
            "[nltk_data] Downloading package stopwords to /root/nltk_data...\n",
            "[nltk_data]   Unzipping corpora/stopwords.zip.\n",
            "[nltk_data] Downloading package wordnet to /root/nltk_data...\n"
          ]
        },
        {
          "output_type": "execute_result",
          "data": {
            "text/plain": [
              "True"
            ]
          },
          "metadata": {},
          "execution_count": 5
        }
      ],
      "source": [
        "# Load necessary NLTK data\n",
        "nltk.download('punkt')\n",
        "nltk.download('stopwords')\n",
        "nltk.download('wordnet')"
      ]
    },
    {
      "cell_type": "code",
      "execution_count": 6,
      "metadata": {
        "id": "oODTf5WUMNIW"
      },
      "outputs": [],
      "source": [
        " # preprocess the dataset\n",
        "data.dropna(subset=['Abstract'], inplace=True)\n",
        "\n",
        "def preprocess_text(comment):\n",
        "    lemmatizer = WordNetLemmatizer()\n",
        "    stop_words = set(stopwords.words('english'))\n",
        "\n",
        "    # Lowercase\n",
        "    comment = comment.lower()\n",
        "    # Remove special characters and URLs\n",
        "    comment = re.sub(r\"http\\S+|www\\S+|https\\S+\", '', comment, flags=re.MULTILINE)\n",
        "    comment = re.sub(r'\\@\\w+|\\#', '', comment)\n",
        "    # Tokenization\n",
        "    tokens = word_tokenize(comment)\n",
        "    # Lemmatization and stop word removal\n",
        "    comment = ' '.join([lemmatizer.lemmatize(word) for word in tokens if word not in stop_words])\n",
        "    return comment\n",
        "\n",
        "data['Abstract'] = data['Abstract'].apply(preprocess_text)\n",
        "X = data['Abstract']\n",
        "y = data['Label']"
      ]
    },
    {
      "cell_type": "code",
      "execution_count": 7,
      "metadata": {
        "id": "dSKTP_15MXus"
      },
      "outputs": [],
      "source": [
        "# Split the data\n",
        "X_train, X_temp, y_train, y_temp = train_test_split(X, y, test_size=0.4, random_state=42, stratify=y)\n",
        "X_val, X_test, y_val, y_test = train_test_split(X_temp, y_temp, test_size=0.5, random_state=42, stratify=y_temp)"
      ]
    },
    {
      "cell_type": "code",
      "execution_count": 8,
      "metadata": {
        "id": "iXOXoIh3Qftl"
      },
      "outputs": [],
      "source": [
        "# Tokenize and pad sequences for LSTM and GRU\n",
        "tokenizer = Tokenizer(num_words=5000, oov_token='<OOV>')\n",
        "tokenizer.fit_on_texts(X_train)\n",
        "word_index = tokenizer.word_index"
      ]
    },
    {
      "cell_type": "code",
      "execution_count": 9,
      "metadata": {
        "id": "eCRxZuLKSpAZ"
      },
      "outputs": [],
      "source": [
        "max_length = 100\n",
        "trunc_type='post'\n",
        "padding_type='post'"
      ]
    },
    {
      "cell_type": "code",
      "execution_count": 10,
      "metadata": {
        "id": "E-Febq5nTthr"
      },
      "outputs": [],
      "source": [
        "X_train_seq = tokenizer.texts_to_sequences(X_train)\n",
        "X_val_seq = tokenizer.texts_to_sequences(X_val)\n",
        "X_test_seq = tokenizer.texts_to_sequences(X_test)"
      ]
    },
    {
      "cell_type": "code",
      "execution_count": 11,
      "metadata": {
        "id": "_wrYYdAPTvLg"
      },
      "outputs": [],
      "source": [
        "X_train_padded = pad_sequences(X_train_seq, maxlen=max_length, padding=padding_type, truncating=trunc_type)\n",
        "X_val_padded = pad_sequences(X_val_seq, maxlen=max_length, padding=padding_type, truncating=trunc_type)\n",
        "X_test_padded = pad_sequences(X_test_seq, maxlen=max_length, padding=padding_type, truncating=trunc_type)"
      ]
    },
    {
      "cell_type": "code",
      "execution_count": 12,
      "metadata": {
        "colab": {
          "base_uri": "https://localhost:8080/"
        },
        "id": "3dOUp_VEUQgI",
        "outputId": "09552654-4d77-474a-ac41-c3e0d8aa265c"
      },
      "outputs": [
        {
          "output_type": "stream",
          "name": "stdout",
          "text": [
            "Epoch 1/5\n",
            "482/482 [==============================] - 66s 130ms/step - loss: 0.2765 - accuracy: 0.8909 - val_loss: 0.1958 - val_accuracy: 0.9349\n",
            "Epoch 2/5\n",
            "482/482 [==============================] - 62s 128ms/step - loss: 0.1598 - accuracy: 0.9462 - val_loss: 0.1802 - val_accuracy: 0.9347\n",
            "Epoch 3/5\n",
            "482/482 [==============================] - 65s 136ms/step - loss: 0.1083 - accuracy: 0.9631 - val_loss: 0.2156 - val_accuracy: 0.9277\n",
            "Epoch 4/5\n",
            "482/482 [==============================] - 62s 129ms/step - loss: 0.0728 - accuracy: 0.9767 - val_loss: 0.2264 - val_accuracy: 0.9275\n",
            "Epoch 5/5\n",
            "482/482 [==============================] - 61s 128ms/step - loss: 0.0528 - accuracy: 0.9828 - val_loss: 0.2797 - val_accuracy: 0.9111\n"
          ]
        },
        {
          "output_type": "execute_result",
          "data": {
            "text/plain": [
              "<keras.src.callbacks.History at 0x7dc219a11ab0>"
            ]
          },
          "metadata": {},
          "execution_count": 12
        }
      ],
      "source": [
        "# Model 1: LSTM\n",
        "model_lstm = Sequential([\n",
        "    Embedding(input_dim=5000, output_dim=64, input_length=max_length),\n",
        "    Bidirectional(LSTM(64)),\n",
        "    Dense(1, activation='sigmoid')\n",
        "])\n",
        "model_lstm.compile(loss='binary_crossentropy', optimizer='adam', metrics=['accuracy'])\n",
        "\n",
        "model_lstm.fit(X_train_padded, y_train, epochs=5, validation_data=(X_val_padded, y_val), batch_size=32)"
      ]
    },
    {
      "cell_type": "code",
      "execution_count": 13,
      "metadata": {
        "id": "5siCabGXUTBV",
        "colab": {
          "base_uri": "https://localhost:8080/"
        },
        "outputId": "029d4026-c349-4408-cf67-0c5d9117d073"
      },
      "outputs": [
        {
          "output_type": "stream",
          "name": "stdout",
          "text": [
            "161/161 [==============================] - 12s 68ms/step\n",
            "LSTM Test Accuracy: 0.9158386908240795\n",
            "LSTM Test Report:\n",
            "              precision    recall  f1-score   support\n",
            "\n",
            "           0       0.95      0.94      0.95      3979\n",
            "           1       0.80      0.84      0.82      1154\n",
            "\n",
            "    accuracy                           0.92      5133\n",
            "   macro avg       0.87      0.89      0.88      5133\n",
            "weighted avg       0.92      0.92      0.92      5133\n",
            "\n"
          ]
        }
      ],
      "source": [
        "# Evaluate LSTM\n",
        "y_pred_lstm = (model_lstm.predict(X_test_padded) > 0.5).astype(\"int32\")\n",
        "print(\"LSTM Test Accuracy:\", accuracy_score(y_test, y_pred_lstm))\n",
        "print(\"LSTM Test Report:\")\n",
        "print(classification_report(y_test, y_pred_lstm))"
      ]
    },
    {
      "cell_type": "code",
      "source": [
        "# Model 2: GRU\n",
        "model_gru = Sequential([\n",
        "    Embedding(input_dim=5000, output_dim=64, input_length=max_length),\n",
        "    Bidirectional(GRU(64)),\n",
        "    Dense(1, activation='sigmoid')\n",
        "])\n",
        "model_gru.compile(loss='binary_crossentropy', optimizer='adam', metrics=['accuracy'])\n",
        "\n",
        "model_gru.fit(X_train_padded, y_train, epochs=5, validation_data=(X_val_padded, y_val), batch_size=32)"
      ],
      "metadata": {
        "colab": {
          "base_uri": "https://localhost:8080/"
        },
        "id": "F3xwH80X8rDA",
        "outputId": "cad12978-c4d6-4ffd-8e0b-c56897cd3c3f"
      },
      "execution_count": 25,
      "outputs": [
        {
          "output_type": "stream",
          "name": "stdout",
          "text": [
            "Epoch 1/5\n",
            "482/482 [==============================] - 63s 124ms/step - loss: 0.2839 - accuracy: 0.8889 - val_loss: 0.1917 - val_accuracy: 0.9283\n",
            "Epoch 2/5\n",
            "482/482 [==============================] - 61s 126ms/step - loss: 0.1552 - accuracy: 0.9456 - val_loss: 0.2195 - val_accuracy: 0.9326\n",
            "Epoch 3/5\n",
            "482/482 [==============================] - 58s 121ms/step - loss: 0.1015 - accuracy: 0.9653 - val_loss: 0.1980 - val_accuracy: 0.9324\n",
            "Epoch 4/5\n",
            "482/482 [==============================] - 59s 123ms/step - loss: 0.0718 - accuracy: 0.9741 - val_loss: 0.2632 - val_accuracy: 0.9168\n",
            "Epoch 5/5\n",
            "482/482 [==============================] - 58s 121ms/step - loss: 0.0441 - accuracy: 0.9843 - val_loss: 0.3141 - val_accuracy: 0.9178\n"
          ]
        },
        {
          "output_type": "execute_result",
          "data": {
            "text/plain": [
              "<keras.src.callbacks.History at 0x7dc21615ed10>"
            ]
          },
          "metadata": {},
          "execution_count": 25
        }
      ]
    },
    {
      "cell_type": "code",
      "source": [
        "# Evaluate GRU\n",
        "y_pred_gru = (model_gru.predict(X_test_padded) > 0.5).astype(\"int32\")\n",
        "print(\"GRU Test Accuracy:\", accuracy_score(y_test, y_pred_gru))\n",
        "print(\"GRU Test Report:\")\n",
        "print(classification_report(y_test, y_pred_gru))"
      ],
      "metadata": {
        "colab": {
          "base_uri": "https://localhost:8080/"
        },
        "id": "B77awcy-9vUI",
        "outputId": "66b5d959-c9bc-4eed-9386-405a79efb63b"
      },
      "execution_count": 26,
      "outputs": [
        {
          "output_type": "stream",
          "name": "stdout",
          "text": [
            "161/161 [==============================] - 4s 23ms/step\n",
            "GRU Test Accuracy: 0.9148646015975064\n",
            "GRU Test Report:\n",
            "              precision    recall  f1-score   support\n",
            "\n",
            "           0       0.94      0.95      0.95      3979\n",
            "           1       0.82      0.80      0.81      1154\n",
            "\n",
            "    accuracy                           0.91      5133\n",
            "   macro avg       0.88      0.87      0.88      5133\n",
            "weighted avg       0.91      0.91      0.91      5133\n",
            "\n"
          ]
        }
      ]
    },
    {
      "cell_type": "code",
      "source": [
        "# Model 3: CNN\n",
        "model_cnn = Sequential([\n",
        "    Embedding(input_dim=5000, output_dim=64, input_length=max_length),\n",
        "    Conv1D(128, 5, activation='relu'),\n",
        "    GlobalMaxPooling1D(),\n",
        "    Dense(10, activation='relu'),\n",
        "    Dense(1, activation='sigmoid')\n",
        "])\n",
        "model_cnn.compile(loss='binary_crossentropy', optimizer='adam', metrics=['accuracy'])\n",
        "\n",
        "model_cnn.fit(X_train_padded, y_train, epochs=10, validation_data=(X_val_padded, y_val), batch_size=32)"
      ],
      "metadata": {
        "colab": {
          "base_uri": "https://localhost:8080/"
        },
        "id": "5JK46jyT94Ya",
        "outputId": "02398e1b-17a5-4a63-ebab-70e050f94230"
      },
      "execution_count": 23,
      "outputs": [
        {
          "output_type": "stream",
          "name": "stdout",
          "text": [
            "Epoch 1/10\n",
            "482/482 [==============================] - 21s 36ms/step - loss: 0.2529 - accuracy: 0.9054 - val_loss: 0.1635 - val_accuracy: 0.9413\n",
            "Epoch 2/10\n",
            "482/482 [==============================] - 15s 31ms/step - loss: 0.1291 - accuracy: 0.9543 - val_loss: 0.1712 - val_accuracy: 0.9380\n",
            "Epoch 3/10\n",
            "482/482 [==============================] - 15s 31ms/step - loss: 0.0696 - accuracy: 0.9758 - val_loss: 0.2537 - val_accuracy: 0.9277\n",
            "Epoch 4/10\n",
            "482/482 [==============================] - 15s 31ms/step - loss: 0.0213 - accuracy: 0.9947 - val_loss: 0.3092 - val_accuracy: 0.9283\n",
            "Epoch 5/10\n",
            "482/482 [==============================] - 15s 30ms/step - loss: 0.0037 - accuracy: 0.9997 - val_loss: 0.3308 - val_accuracy: 0.9322\n",
            "Epoch 6/10\n",
            "482/482 [==============================] - 15s 32ms/step - loss: 6.7492e-04 - accuracy: 1.0000 - val_loss: 0.3598 - val_accuracy: 0.9320\n",
            "Epoch 7/10\n",
            "482/482 [==============================] - 15s 32ms/step - loss: 2.9763e-04 - accuracy: 1.0000 - val_loss: 0.3816 - val_accuracy: 0.9318\n",
            "Epoch 8/10\n",
            "482/482 [==============================] - 15s 32ms/step - loss: 1.8124e-04 - accuracy: 1.0000 - val_loss: 0.3958 - val_accuracy: 0.9320\n",
            "Epoch 9/10\n",
            "482/482 [==============================] - 19s 40ms/step - loss: 1.1957e-04 - accuracy: 1.0000 - val_loss: 0.4199 - val_accuracy: 0.9320\n",
            "Epoch 10/10\n",
            "482/482 [==============================] - 15s 31ms/step - loss: 8.2026e-05 - accuracy: 1.0000 - val_loss: 0.4298 - val_accuracy: 0.9312\n"
          ]
        },
        {
          "output_type": "execute_result",
          "data": {
            "text/plain": [
              "<keras.src.callbacks.History at 0x7dc2062393c0>"
            ]
          },
          "metadata": {},
          "execution_count": 23
        }
      ]
    },
    {
      "cell_type": "code",
      "source": [
        "# Evaluate CNN\n",
        "y_pred_cnn = (model_cnn.predict(X_test_padded) > 0.5).astype(\"int32\")\n",
        "print(\"CNN Test Accuracy:\", accuracy_score(y_test, y_pred_cnn))\n",
        "print(\"CNN Test Report:\")\n",
        "print(classification_report(y_test, y_pred_cnn))"
      ],
      "metadata": {
        "colab": {
          "base_uri": "https://localhost:8080/"
        },
        "id": "CROap7mw97kE",
        "outputId": "e26ec3e3-1410-46aa-d191-dc40b407d0b1"
      },
      "execution_count": 24,
      "outputs": [
        {
          "output_type": "stream",
          "name": "stdout",
          "text": [
            "161/161 [==============================] - 3s 15ms/step\n",
            "CNN Test Accuracy: 0.9288914864601597\n",
            "CNN Test Report:\n",
            "              precision    recall  f1-score   support\n",
            "\n",
            "           0       0.94      0.97      0.95      3979\n",
            "           1       0.88      0.80      0.83      1154\n",
            "\n",
            "    accuracy                           0.93      5133\n",
            "   macro avg       0.91      0.88      0.89      5133\n",
            "weighted avg       0.93      0.93      0.93      5133\n",
            "\n"
          ]
        }
      ]
    },
    {
      "cell_type": "code",
      "source": [],
      "metadata": {
        "id": "PaFR7FoWtxca"
      },
      "execution_count": null,
      "outputs": []
    }
  ],
  "metadata": {
    "colab": {
      "provenance": []
    },
    "kernelspec": {
      "display_name": "Python 3",
      "name": "python3"
    },
    "language_info": {
      "name": "python"
    }
  },
  "nbformat": 4,
  "nbformat_minor": 0
}