{
  "cells": [
    {
      "cell_type": "code",
      "execution_count": 3,
      "metadata": {
        "id": "En0eLqGPK6U0"
      },
      "outputs": [],
      "source": [
        "import pandas as pd\n",
        "import numpy as np\n",
        "import re\n",
        "import nltk\n",
        "from sklearn.model_selection import train_test_split\n",
        "from sklearn.metrics import accuracy_score, classification_report\n",
        "from nltk.tokenize import word_tokenize\n",
        "from nltk.corpus import stopwords\n",
        "from nltk.stem import WordNetLemmatizer\n",
        "import tensorflow as tf\n",
        "from tensorflow.keras.preprocessing.text import Tokenizer\n",
        "from tensorflow.keras.preprocessing.sequence import pad_sequences\n",
        "from tensorflow.keras.models import Sequential\n",
        "from tensorflow.keras.layers import Embedding, LSTM, GRU, Conv1D, GlobalMaxPooling1D, Dense, Bidirectional, Dropout\n"
      ]
    },
    {
      "cell_type": "code",
      "execution_count": 4,
      "metadata": {
        "id": "piTxEbyUOTMw"
      },
      "outputs": [],
      "source": [
        "# Step 1: Load and Inspect the Data\n",
        "file_path = 'rct_data.txt'\n",
        "data = pd.read_csv(file_path, delimiter='\\t', header=None, names=['ID', 'Label', 'Year', 'Title', 'Abstract'])"
      ]
    },
    {
      "cell_type": "code",
      "source": [
        "data.head()"
      ],
      "metadata": {
        "id": "9gbmOHDSc76Y",
        "colab": {
          "base_uri": "https://localhost:8080/",
          "height": 204
        },
        "outputId": "63a3b7d1-f115-4fa8-c951-7b5be05db425"
      },
      "execution_count": 5,
      "outputs": [
        {
          "output_type": "execute_result",
          "data": {
            "text/plain": [
              "         ID  Label  Year                                              Title  \\\n",
              "0  18439781      0  2011  Two patients subdued with a TASER® device: cas...   \n",
              "1  18468833      0  2011  A case of Takayasu arteritis causing subclavia...   \n",
              "2  18481181      0  2012  Pathophysiology of hypopituitarism in the sett...   \n",
              "3  18728056      1  2011  The cardiovascular risk factor, soluble CD40 l...   \n",
              "4  18790590      0  2011         Horner syndrome due to carotid dissection.   \n",
              "\n",
              "                                            Abstract  \n",
              "0  In the United States, an increasing number of ...  \n",
              "1  The American Heart Association website defines...  \n",
              "2  The complex pathophysiology of traumatic brain...  \n",
              "3  [BACKGROUND] Soluble CD40 ligand (sCD40L) is a...  \n",
              "4  [BACKGROUND] Internal carotid artery dissectio...  "
            ],
            "text/html": [
              "\n",
              "  <div id=\"df-541f81a8-99c2-44ac-a62d-838ffaedde2c\" class=\"colab-df-container\">\n",
              "    <div>\n",
              "<style scoped>\n",
              "    .dataframe tbody tr th:only-of-type {\n",
              "        vertical-align: middle;\n",
              "    }\n",
              "\n",
              "    .dataframe tbody tr th {\n",
              "        vertical-align: top;\n",
              "    }\n",
              "\n",
              "    .dataframe thead th {\n",
              "        text-align: right;\n",
              "    }\n",
              "</style>\n",
              "<table border=\"1\" class=\"dataframe\">\n",
              "  <thead>\n",
              "    <tr style=\"text-align: right;\">\n",
              "      <th></th>\n",
              "      <th>ID</th>\n",
              "      <th>Label</th>\n",
              "      <th>Year</th>\n",
              "      <th>Title</th>\n",
              "      <th>Abstract</th>\n",
              "    </tr>\n",
              "  </thead>\n",
              "  <tbody>\n",
              "    <tr>\n",
              "      <th>0</th>\n",
              "      <td>18439781</td>\n",
              "      <td>0</td>\n",
              "      <td>2011</td>\n",
              "      <td>Two patients subdued with a TASER® device: cas...</td>\n",
              "      <td>In the United States, an increasing number of ...</td>\n",
              "    </tr>\n",
              "    <tr>\n",
              "      <th>1</th>\n",
              "      <td>18468833</td>\n",
              "      <td>0</td>\n",
              "      <td>2011</td>\n",
              "      <td>A case of Takayasu arteritis causing subclavia...</td>\n",
              "      <td>The American Heart Association website defines...</td>\n",
              "    </tr>\n",
              "    <tr>\n",
              "      <th>2</th>\n",
              "      <td>18481181</td>\n",
              "      <td>0</td>\n",
              "      <td>2012</td>\n",
              "      <td>Pathophysiology of hypopituitarism in the sett...</td>\n",
              "      <td>The complex pathophysiology of traumatic brain...</td>\n",
              "    </tr>\n",
              "    <tr>\n",
              "      <th>3</th>\n",
              "      <td>18728056</td>\n",
              "      <td>1</td>\n",
              "      <td>2011</td>\n",
              "      <td>The cardiovascular risk factor, soluble CD40 l...</td>\n",
              "      <td>[BACKGROUND] Soluble CD40 ligand (sCD40L) is a...</td>\n",
              "    </tr>\n",
              "    <tr>\n",
              "      <th>4</th>\n",
              "      <td>18790590</td>\n",
              "      <td>0</td>\n",
              "      <td>2011</td>\n",
              "      <td>Horner syndrome due to carotid dissection.</td>\n",
              "      <td>[BACKGROUND] Internal carotid artery dissectio...</td>\n",
              "    </tr>\n",
              "  </tbody>\n",
              "</table>\n",
              "</div>\n",
              "    <div class=\"colab-df-buttons\">\n",
              "\n",
              "  <div class=\"colab-df-container\">\n",
              "    <button class=\"colab-df-convert\" onclick=\"convertToInteractive('df-541f81a8-99c2-44ac-a62d-838ffaedde2c')\"\n",
              "            title=\"Convert this dataframe to an interactive table.\"\n",
              "            style=\"display:none;\">\n",
              "\n",
              "  <svg xmlns=\"http://www.w3.org/2000/svg\" height=\"24px\" viewBox=\"0 -960 960 960\">\n",
              "    <path d=\"M120-120v-720h720v720H120Zm60-500h600v-160H180v160Zm220 220h160v-160H400v160Zm0 220h160v-160H400v160ZM180-400h160v-160H180v160Zm440 0h160v-160H620v160ZM180-180h160v-160H180v160Zm440 0h160v-160H620v160Z\"/>\n",
              "  </svg>\n",
              "    </button>\n",
              "\n",
              "  <style>\n",
              "    .colab-df-container {\n",
              "      display:flex;\n",
              "      gap: 12px;\n",
              "    }\n",
              "\n",
              "    .colab-df-convert {\n",
              "      background-color: #E8F0FE;\n",
              "      border: none;\n",
              "      border-radius: 50%;\n",
              "      cursor: pointer;\n",
              "      display: none;\n",
              "      fill: #1967D2;\n",
              "      height: 32px;\n",
              "      padding: 0 0 0 0;\n",
              "      width: 32px;\n",
              "    }\n",
              "\n",
              "    .colab-df-convert:hover {\n",
              "      background-color: #E2EBFA;\n",
              "      box-shadow: 0px 1px 2px rgba(60, 64, 67, 0.3), 0px 1px 3px 1px rgba(60, 64, 67, 0.15);\n",
              "      fill: #174EA6;\n",
              "    }\n",
              "\n",
              "    .colab-df-buttons div {\n",
              "      margin-bottom: 4px;\n",
              "    }\n",
              "\n",
              "    [theme=dark] .colab-df-convert {\n",
              "      background-color: #3B4455;\n",
              "      fill: #D2E3FC;\n",
              "    }\n",
              "\n",
              "    [theme=dark] .colab-df-convert:hover {\n",
              "      background-color: #434B5C;\n",
              "      box-shadow: 0px 1px 3px 1px rgba(0, 0, 0, 0.15);\n",
              "      filter: drop-shadow(0px 1px 2px rgba(0, 0, 0, 0.3));\n",
              "      fill: #FFFFFF;\n",
              "    }\n",
              "  </style>\n",
              "\n",
              "    <script>\n",
              "      const buttonEl =\n",
              "        document.querySelector('#df-541f81a8-99c2-44ac-a62d-838ffaedde2c button.colab-df-convert');\n",
              "      buttonEl.style.display =\n",
              "        google.colab.kernel.accessAllowed ? 'block' : 'none';\n",
              "\n",
              "      async function convertToInteractive(key) {\n",
              "        const element = document.querySelector('#df-541f81a8-99c2-44ac-a62d-838ffaedde2c');\n",
              "        const dataTable =\n",
              "          await google.colab.kernel.invokeFunction('convertToInteractive',\n",
              "                                                    [key], {});\n",
              "        if (!dataTable) return;\n",
              "\n",
              "        const docLinkHtml = 'Like what you see? Visit the ' +\n",
              "          '<a target=\"_blank\" href=https://colab.research.google.com/notebooks/data_table.ipynb>data table notebook</a>'\n",
              "          + ' to learn more about interactive tables.';\n",
              "        element.innerHTML = '';\n",
              "        dataTable['output_type'] = 'display_data';\n",
              "        await google.colab.output.renderOutput(dataTable, element);\n",
              "        const docLink = document.createElement('div');\n",
              "        docLink.innerHTML = docLinkHtml;\n",
              "        element.appendChild(docLink);\n",
              "      }\n",
              "    </script>\n",
              "  </div>\n",
              "\n",
              "\n",
              "<div id=\"df-ab824bd1-3271-478b-bb79-564ce8435fef\">\n",
              "  <button class=\"colab-df-quickchart\" onclick=\"quickchart('df-ab824bd1-3271-478b-bb79-564ce8435fef')\"\n",
              "            title=\"Suggest charts\"\n",
              "            style=\"display:none;\">\n",
              "\n",
              "<svg xmlns=\"http://www.w3.org/2000/svg\" height=\"24px\"viewBox=\"0 0 24 24\"\n",
              "     width=\"24px\">\n",
              "    <g>\n",
              "        <path d=\"M19 3H5c-1.1 0-2 .9-2 2v14c0 1.1.9 2 2 2h14c1.1 0 2-.9 2-2V5c0-1.1-.9-2-2-2zM9 17H7v-7h2v7zm4 0h-2V7h2v10zm4 0h-2v-4h2v4z\"/>\n",
              "    </g>\n",
              "</svg>\n",
              "  </button>\n",
              "\n",
              "<style>\n",
              "  .colab-df-quickchart {\n",
              "      --bg-color: #E8F0FE;\n",
              "      --fill-color: #1967D2;\n",
              "      --hover-bg-color: #E2EBFA;\n",
              "      --hover-fill-color: #174EA6;\n",
              "      --disabled-fill-color: #AAA;\n",
              "      --disabled-bg-color: #DDD;\n",
              "  }\n",
              "\n",
              "  [theme=dark] .colab-df-quickchart {\n",
              "      --bg-color: #3B4455;\n",
              "      --fill-color: #D2E3FC;\n",
              "      --hover-bg-color: #434B5C;\n",
              "      --hover-fill-color: #FFFFFF;\n",
              "      --disabled-bg-color: #3B4455;\n",
              "      --disabled-fill-color: #666;\n",
              "  }\n",
              "\n",
              "  .colab-df-quickchart {\n",
              "    background-color: var(--bg-color);\n",
              "    border: none;\n",
              "    border-radius: 50%;\n",
              "    cursor: pointer;\n",
              "    display: none;\n",
              "    fill: var(--fill-color);\n",
              "    height: 32px;\n",
              "    padding: 0;\n",
              "    width: 32px;\n",
              "  }\n",
              "\n",
              "  .colab-df-quickchart:hover {\n",
              "    background-color: var(--hover-bg-color);\n",
              "    box-shadow: 0 1px 2px rgba(60, 64, 67, 0.3), 0 1px 3px 1px rgba(60, 64, 67, 0.15);\n",
              "    fill: var(--button-hover-fill-color);\n",
              "  }\n",
              "\n",
              "  .colab-df-quickchart-complete:disabled,\n",
              "  .colab-df-quickchart-complete:disabled:hover {\n",
              "    background-color: var(--disabled-bg-color);\n",
              "    fill: var(--disabled-fill-color);\n",
              "    box-shadow: none;\n",
              "  }\n",
              "\n",
              "  .colab-df-spinner {\n",
              "    border: 2px solid var(--fill-color);\n",
              "    border-color: transparent;\n",
              "    border-bottom-color: var(--fill-color);\n",
              "    animation:\n",
              "      spin 1s steps(1) infinite;\n",
              "  }\n",
              "\n",
              "  @keyframes spin {\n",
              "    0% {\n",
              "      border-color: transparent;\n",
              "      border-bottom-color: var(--fill-color);\n",
              "      border-left-color: var(--fill-color);\n",
              "    }\n",
              "    20% {\n",
              "      border-color: transparent;\n",
              "      border-left-color: var(--fill-color);\n",
              "      border-top-color: var(--fill-color);\n",
              "    }\n",
              "    30% {\n",
              "      border-color: transparent;\n",
              "      border-left-color: var(--fill-color);\n",
              "      border-top-color: var(--fill-color);\n",
              "      border-right-color: var(--fill-color);\n",
              "    }\n",
              "    40% {\n",
              "      border-color: transparent;\n",
              "      border-right-color: var(--fill-color);\n",
              "      border-top-color: var(--fill-color);\n",
              "    }\n",
              "    60% {\n",
              "      border-color: transparent;\n",
              "      border-right-color: var(--fill-color);\n",
              "    }\n",
              "    80% {\n",
              "      border-color: transparent;\n",
              "      border-right-color: var(--fill-color);\n",
              "      border-bottom-color: var(--fill-color);\n",
              "    }\n",
              "    90% {\n",
              "      border-color: transparent;\n",
              "      border-bottom-color: var(--fill-color);\n",
              "    }\n",
              "  }\n",
              "</style>\n",
              "\n",
              "  <script>\n",
              "    async function quickchart(key) {\n",
              "      const quickchartButtonEl =\n",
              "        document.querySelector('#' + key + ' button');\n",
              "      quickchartButtonEl.disabled = true;  // To prevent multiple clicks.\n",
              "      quickchartButtonEl.classList.add('colab-df-spinner');\n",
              "      try {\n",
              "        const charts = await google.colab.kernel.invokeFunction(\n",
              "            'suggestCharts', [key], {});\n",
              "      } catch (error) {\n",
              "        console.error('Error during call to suggestCharts:', error);\n",
              "      }\n",
              "      quickchartButtonEl.classList.remove('colab-df-spinner');\n",
              "      quickchartButtonEl.classList.add('colab-df-quickchart-complete');\n",
              "    }\n",
              "    (() => {\n",
              "      let quickchartButtonEl =\n",
              "        document.querySelector('#df-ab824bd1-3271-478b-bb79-564ce8435fef button');\n",
              "      quickchartButtonEl.style.display =\n",
              "        google.colab.kernel.accessAllowed ? 'block' : 'none';\n",
              "    })();\n",
              "  </script>\n",
              "</div>\n",
              "\n",
              "    </div>\n",
              "  </div>\n"
            ],
            "application/vnd.google.colaboratory.intrinsic+json": {
              "type": "dataframe",
              "variable_name": "data",
              "summary": "{\n  \"name\": \"data\",\n  \"rows\": 5336,\n  \"fields\": [\n    {\n      \"column\": \"ID\",\n      \"properties\": {\n        \"dtype\": \"number\",\n        \"std\": 310861,\n        \"min\": 18439781,\n        \"max\": 21074790,\n        \"num_unique_values\": 5336,\n        \"samples\": [\n          20581700,\n          20691551,\n          20865022\n        ],\n        \"semantic_type\": \"\",\n        \"description\": \"\"\n      }\n    },\n    {\n      \"column\": \"Label\",\n      \"properties\": {\n        \"dtype\": \"number\",\n        \"std\": 0,\n        \"min\": 0,\n        \"max\": 1,\n        \"num_unique_values\": 2,\n        \"samples\": [\n          1,\n          0\n        ],\n        \"semantic_type\": \"\",\n        \"description\": \"\"\n      }\n    },\n    {\n      \"column\": \"Year\",\n      \"properties\": {\n        \"dtype\": \"number\",\n        \"std\": 0,\n        \"min\": 2011,\n        \"max\": 2013,\n        \"num_unique_values\": 3,\n        \"samples\": [\n          2011,\n          2012\n        ],\n        \"semantic_type\": \"\",\n        \"description\": \"\"\n      }\n    },\n    {\n      \"column\": \"Title\",\n      \"properties\": {\n        \"dtype\": \"string\",\n        \"num_unique_values\": 5336,\n        \"samples\": [\n          \"VO2max and ventilatory threshold of trained cyclists are not affected by 28-day L-arginine supplementation.\",\n          \"The importance of Guthrie cards and other medical samples for the direct matching of disaster victims using DNA profiling.\"\n        ],\n        \"semantic_type\": \"\",\n        \"description\": \"\"\n      }\n    },\n    {\n      \"column\": \"Abstract\",\n      \"properties\": {\n        \"dtype\": \"string\",\n        \"num_unique_values\": 5336,\n        \"samples\": [\n          \"The ergogenic effect of L-arginine on an endurance-trained population is not well studied. The few studies that have investigated L-arginine on this population have not been conducted in a laboratory setting or measured aerobic variables. The purpose of the current study is to determine if 28 days of L-arginine supplementation in trained male cyclists affects VO2max and ventilatory threshold (VT). Eighteen (18) endurance-trained male cyclists (mean \\u00b1 SD, age: 36.3 \\u00b1 7.9 years; height: 182.4 \\u00b1 4.6 cm; and body mass: 79.5 \\u00b1 4.7 kg) performed a graded exercise test (GXT; 50 W + 25 W\\u00b7min) before and after 28 days of supplementation with L-arginine (ARG; 2 \\u00d7 6 g\\u00b7d) or placebo (PLA; cornstarch). The GXT was conducted on the subject's own bicycle using the RacerMate CompuTrainer (Seattle, WA, USA). VO2 was continuously recorded using the ParvoMedics TrueOne 2400 metabolic cart (Salt Lake City, UT, USA) and VT was established by plotting the ventilatory equivalent for O2 (VE/VO2) and the ventilatory equivalent for CO2 (VE/VCO2) and identifying the point at which VE/VO2 increases with no substantial changes in VE/VCO2. L-arginine supplementation had no effect from initial VO2max (PL, 58.7 \\u00b1 7.1 ml\\u00b7kg\\u00b7min; ARG, 63.5 \\u00b1 7.3 ml\\u00b7kg\\u00b7min) to postsupplement VO2max (PL, 58.9 \\u00b1 6.0 ml\\u00b7kg\\u00b7min; ARG, 63.2 \\u00b1 7.2 ml\\u00b7kg\\u00b7min). Also, no effect was seen from initial VT (PL, 75.7 \\u00b1 4.6% VO2max; ARG, 76.0 \\u00b1 5.3% VO2max) to postsupplement VT (PL, 74.3 \\u00b1 8.1% VO2max; ARG, 74.2 \\u00b1 6.4% VO2max). These results indicate that L-arginine does not impact VO2max or VT in trained male cyclists.\",\n          \"The identification of disaster victims through the use of DNA analysis is an integral part of any Disaster Victim Identification (DVI) response, regardless of the scale and nature of the disaster. As part of the DVI response to the 2009 Victorian Bushfires Disaster, DNA analysis was performed to assist in the identification of victims through kinship (familial matching to relatives) or direct (self source sample) matching of DNA profiles. Although most of the DNA identifications achieved were to reference samples from relatives, there were a number of DNA identifications (12) made through direct matching. Guthrie cards, which have been collected in Australia over the past 30 years, were used to provide direct reference samples. Of the 236 ante-mortem (AM) samples received, 21 were Guthrie cards and one was a biopsy specimen; all yielding complete DNA profiles when genotyped. This publication describes the use of such Biobanks and medical specimens as a sample source for the recovery of good quality DNA for comparisons to post-mortem (PM) samples.\"\n        ],\n        \"semantic_type\": \"\",\n        \"description\": \"\"\n      }\n    }\n  ]\n}"
            }
          },
          "metadata": {},
          "execution_count": 5
        }
      ]
    },
    {
      "cell_type": "code",
      "execution_count": 6,
      "metadata": {
        "id": "b-Zh9slqLBPU",
        "colab": {
          "base_uri": "https://localhost:8080/"
        },
        "outputId": "d80bf59c-e288-42c2-9d27-166097e53f71"
      },
      "outputs": [
        {
          "output_type": "stream",
          "name": "stderr",
          "text": [
            "[nltk_data] Downloading package punkt to /root/nltk_data...\n",
            "[nltk_data]   Unzipping tokenizers/punkt.zip.\n",
            "[nltk_data] Downloading package stopwords to /root/nltk_data...\n",
            "[nltk_data]   Unzipping corpora/stopwords.zip.\n",
            "[nltk_data] Downloading package wordnet to /root/nltk_data...\n"
          ]
        },
        {
          "output_type": "execute_result",
          "data": {
            "text/plain": [
              "True"
            ]
          },
          "metadata": {},
          "execution_count": 6
        }
      ],
      "source": [
        "# Load necessary NLTK data\n",
        "nltk.download('punkt')\n",
        "nltk.download('stopwords')\n",
        "nltk.download('wordnet')"
      ]
    },
    {
      "cell_type": "code",
      "execution_count": 7,
      "metadata": {
        "id": "oODTf5WUMNIW"
      },
      "outputs": [],
      "source": [
        " # preprocess the dataset\n",
        "data.dropna(subset=['Abstract'], inplace=True)\n",
        "\n",
        "def preprocess_text(comment):\n",
        "    lemmatizer = WordNetLemmatizer()\n",
        "    stop_words = set(stopwords.words('english'))\n",
        "\n",
        "    # Lowercase\n",
        "    comment = comment.lower()\n",
        "    # Remove special characters and URLs\n",
        "    comment = re.sub(r\"http\\S+|www\\S+|https\\S+\", '', comment, flags=re.MULTILINE)\n",
        "    comment = re.sub(r'\\@\\w+|\\#', '', comment)\n",
        "    # Tokenization\n",
        "    tokens = word_tokenize(comment)\n",
        "    # Lemmatization and stop word removal\n",
        "    comment = ' '.join([lemmatizer.lemmatize(word) for word in tokens if word not in stop_words])\n",
        "    return comment\n",
        "\n",
        "data['Abstract'] = data['Abstract'].apply(preprocess_text)\n",
        "X = data['Abstract']\n",
        "y = data['Label']"
      ]
    },
    {
      "cell_type": "code",
      "execution_count": 8,
      "metadata": {
        "id": "dSKTP_15MXus"
      },
      "outputs": [],
      "source": [
        "# Split the data\n",
        "X_train, X_temp, y_train, y_temp = train_test_split(X, y, test_size=0.4, random_state=42, stratify=y)\n",
        "X_val, X_test, y_val, y_test = train_test_split(X_temp, y_temp, test_size=0.5, random_state=42, stratify=y_temp)"
      ]
    },
    {
      "cell_type": "code",
      "execution_count": 9,
      "metadata": {
        "id": "iXOXoIh3Qftl"
      },
      "outputs": [],
      "source": [
        "# Tokenize and pad sequences for LSTM and GRU\n",
        "tokenizer = Tokenizer(num_words=5000, oov_token='<OOV>')\n",
        "tokenizer.fit_on_texts(X_train)\n",
        "word_index = tokenizer.word_index"
      ]
    },
    {
      "cell_type": "code",
      "execution_count": 10,
      "metadata": {
        "id": "eCRxZuLKSpAZ"
      },
      "outputs": [],
      "source": [
        "max_length = 100\n",
        "trunc_type='post'\n",
        "padding_type='post'"
      ]
    },
    {
      "cell_type": "code",
      "execution_count": 11,
      "metadata": {
        "id": "E-Febq5nTthr"
      },
      "outputs": [],
      "source": [
        "X_train_seq = tokenizer.texts_to_sequences(X_train)\n",
        "X_val_seq = tokenizer.texts_to_sequences(X_val)\n",
        "X_test_seq = tokenizer.texts_to_sequences(X_test)"
      ]
    },
    {
      "cell_type": "code",
      "execution_count": 12,
      "metadata": {
        "id": "_wrYYdAPTvLg"
      },
      "outputs": [],
      "source": [
        "X_train_padded = pad_sequences(X_train_seq, maxlen=max_length, padding=padding_type, truncating=trunc_type)\n",
        "X_val_padded = pad_sequences(X_val_seq, maxlen=max_length, padding=padding_type, truncating=trunc_type)\n",
        "X_test_padded = pad_sequences(X_test_seq, maxlen=max_length, padding=padding_type, truncating=trunc_type)"
      ]
    },
    {
      "cell_type": "code",
      "execution_count": 13,
      "metadata": {
        "id": "3dOUp_VEUQgI",
        "colab": {
          "base_uri": "https://localhost:8080/"
        },
        "outputId": "1dbc3d35-7956-4cbb-fca5-b9411a817157"
      },
      "outputs": [
        {
          "output_type": "stream",
          "name": "stdout",
          "text": [
            "Epoch 1/5\n"
          ]
        },
        {
          "output_type": "stream",
          "name": "stderr",
          "text": [
            "/usr/local/lib/python3.10/dist-packages/keras/src/layers/core/embedding.py:90: UserWarning: Argument `input_length` is deprecated. Just remove it.\n",
            "  warnings.warn(\n"
          ]
        },
        {
          "output_type": "stream",
          "name": "stdout",
          "text": [
            "\u001b[1m101/101\u001b[0m \u001b[32m━━━━━━━━━━━━━━━━━━━━\u001b[0m\u001b[37m\u001b[0m \u001b[1m18s\u001b[0m 133ms/step - accuracy: 0.7499 - loss: 0.5419 - val_accuracy: 0.8932 - val_loss: 0.2710\n",
            "Epoch 2/5\n",
            "\u001b[1m101/101\u001b[0m \u001b[32m━━━━━━━━━━━━━━━━━━━━\u001b[0m\u001b[37m\u001b[0m \u001b[1m13s\u001b[0m 124ms/step - accuracy: 0.9267 - loss: 0.2027 - val_accuracy: 0.9044 - val_loss: 0.2690\n",
            "Epoch 3/5\n",
            "\u001b[1m101/101\u001b[0m \u001b[32m━━━━━━━━━━━━━━━━━━━━\u001b[0m\u001b[37m\u001b[0m \u001b[1m20s\u001b[0m 122ms/step - accuracy: 0.9651 - loss: 0.1117 - val_accuracy: 0.8978 - val_loss: 0.2805\n",
            "Epoch 4/5\n",
            "\u001b[1m101/101\u001b[0m \u001b[32m━━━━━━━━━━━━━━━━━━━━\u001b[0m\u001b[37m\u001b[0m \u001b[1m21s\u001b[0m 133ms/step - accuracy: 0.9889 - loss: 0.0438 - val_accuracy: 0.8932 - val_loss: 0.3031\n",
            "Epoch 5/5\n",
            "\u001b[1m101/101\u001b[0m \u001b[32m━━━━━━━━━━━━━━━━━━━━\u001b[0m\u001b[37m\u001b[0m \u001b[1m19s\u001b[0m 119ms/step - accuracy: 0.9964 - loss: 0.0189 - val_accuracy: 0.8969 - val_loss: 0.3796\n"
          ]
        },
        {
          "output_type": "execute_result",
          "data": {
            "text/plain": [
              "<keras.src.callbacks.history.History at 0x7854742bc0d0>"
            ]
          },
          "metadata": {},
          "execution_count": 13
        }
      ],
      "source": [
        "# Model 1: LSTM\n",
        "model_lstm = Sequential([\n",
        "    Embedding(input_dim=5000, output_dim=64, input_length=max_length),\n",
        "    Bidirectional(LSTM(64)),\n",
        "    Dense(1, activation='sigmoid')\n",
        "])\n",
        "model_lstm.compile(loss='binary_crossentropy', optimizer='adam', metrics=['accuracy'])\n",
        "\n",
        "model_lstm.fit(X_train_padded, y_train, epochs=5, validation_data=(X_val_padded, y_val), batch_size=32)"
      ]
    },
    {
      "cell_type": "code",
      "execution_count": 14,
      "metadata": {
        "id": "5siCabGXUTBV",
        "colab": {
          "base_uri": "https://localhost:8080/"
        },
        "outputId": "0f05c9e6-0b91-461b-da5c-09c0eee4f3e4"
      },
      "outputs": [
        {
          "output_type": "stream",
          "name": "stdout",
          "text": [
            "\u001b[1m34/34\u001b[0m \u001b[32m━━━━━━━━━━━━━━━━━━━━\u001b[0m\u001b[37m\u001b[0m \u001b[1m2s\u001b[0m 44ms/step\n",
            "LSTM Test Accuracy: 0.8867041198501873\n",
            "LSTM Test Report:\n",
            "              precision    recall  f1-score   support\n",
            "\n",
            "           0       0.90      0.95      0.93       807\n",
            "           1       0.82      0.68      0.75       261\n",
            "\n",
            "    accuracy                           0.89      1068\n",
            "   macro avg       0.86      0.82      0.84      1068\n",
            "weighted avg       0.88      0.89      0.88      1068\n",
            "\n"
          ]
        }
      ],
      "source": [
        "# Evaluate LSTM\n",
        "y_pred_lstm = (model_lstm.predict(X_test_padded) > 0.5).astype(\"int32\")\n",
        "print(\"LSTM Test Accuracy:\", accuracy_score(y_test, y_pred_lstm))\n",
        "print(\"LSTM Test Report:\")\n",
        "print(classification_report(y_test, y_pred_lstm))"
      ]
    },
    {
      "cell_type": "code",
      "source": [
        "# Model 2: GRU\n",
        "model_gru = Sequential([\n",
        "    Embedding(input_dim=5000, output_dim=64, input_length=max_length),\n",
        "    Bidirectional(GRU(64)),\n",
        "    Dense(1, activation='sigmoid')\n",
        "])\n",
        "model_gru.compile(loss='binary_crossentropy', optimizer='adam', metrics=['accuracy'])\n",
        "\n",
        "model_gru.fit(X_train_padded, y_train, epochs=5, validation_data=(X_val_padded, y_val), batch_size=32)"
      ],
      "metadata": {
        "id": "F3xwH80X8rDA",
        "colab": {
          "base_uri": "https://localhost:8080/"
        },
        "outputId": "9b263d98-3334-4d29-fb88-4f1a213a9bfa"
      },
      "execution_count": 15,
      "outputs": [
        {
          "output_type": "stream",
          "name": "stdout",
          "text": [
            "Epoch 1/5\n"
          ]
        },
        {
          "output_type": "stream",
          "name": "stderr",
          "text": [
            "/usr/local/lib/python3.10/dist-packages/keras/src/layers/core/embedding.py:90: UserWarning: Argument `input_length` is deprecated. Just remove it.\n",
            "  warnings.warn(\n"
          ]
        },
        {
          "output_type": "stream",
          "name": "stdout",
          "text": [
            "\u001b[1m101/101\u001b[0m \u001b[32m━━━━━━━━━━━━━━━━━━━━\u001b[0m\u001b[37m\u001b[0m \u001b[1m20s\u001b[0m 151ms/step - accuracy: 0.7399 - loss: 0.5602 - val_accuracy: 0.8229 - val_loss: 0.3877\n",
            "Epoch 2/5\n",
            "\u001b[1m101/101\u001b[0m \u001b[32m━━━━━━━━━━━━━━━━━━━━\u001b[0m\u001b[37m\u001b[0m \u001b[1m20s\u001b[0m 143ms/step - accuracy: 0.8961 - loss: 0.2644 - val_accuracy: 0.8941 - val_loss: 0.3054\n",
            "Epoch 3/5\n",
            "\u001b[1m101/101\u001b[0m \u001b[32m━━━━━━━━━━━━━━━━━━━━\u001b[0m\u001b[37m\u001b[0m \u001b[1m20s\u001b[0m 142ms/step - accuracy: 0.9703 - loss: 0.0850 - val_accuracy: 0.8932 - val_loss: 0.3123\n",
            "Epoch 4/5\n",
            "\u001b[1m101/101\u001b[0m \u001b[32m━━━━━━━━━━━━━━━━━━━━\u001b[0m\u001b[37m\u001b[0m \u001b[1m20s\u001b[0m 141ms/step - accuracy: 0.9895 - loss: 0.0319 - val_accuracy: 0.8857 - val_loss: 0.4946\n",
            "Epoch 5/5\n",
            "\u001b[1m101/101\u001b[0m \u001b[32m━━━━━━━━━━━━━━━━━━━━\u001b[0m\u001b[37m\u001b[0m \u001b[1m21s\u001b[0m 143ms/step - accuracy: 0.9951 - loss: 0.0170 - val_accuracy: 0.8997 - val_loss: 0.4015\n"
          ]
        },
        {
          "output_type": "execute_result",
          "data": {
            "text/plain": [
              "<keras.src.callbacks.history.History at 0x785460ebff40>"
            ]
          },
          "metadata": {},
          "execution_count": 15
        }
      ]
    },
    {
      "cell_type": "code",
      "source": [
        "# Evaluate GRU\n",
        "y_pred_gru = (model_gru.predict(X_test_padded) > 0.5).astype(\"int32\")\n",
        "print(\"GRU Test Accuracy:\", accuracy_score(y_test, y_pred_gru))\n",
        "print(\"GRU Test Report:\")\n",
        "print(classification_report(y_test, y_pred_gru))"
      ],
      "metadata": {
        "id": "B77awcy-9vUI",
        "colab": {
          "base_uri": "https://localhost:8080/"
        },
        "outputId": "acb8e4ea-6c33-4a7d-d1ef-49fa7f2151e8"
      },
      "execution_count": 16,
      "outputs": [
        {
          "output_type": "stream",
          "name": "stdout",
          "text": [
            "\u001b[1m34/34\u001b[0m \u001b[32m━━━━━━━━━━━━━━━━━━━━\u001b[0m\u001b[37m\u001b[0m \u001b[1m2s\u001b[0m 37ms/step\n",
            "GRU Test Accuracy: 0.8745318352059925\n",
            "GRU Test Report:\n",
            "              precision    recall  f1-score   support\n",
            "\n",
            "           0       0.91      0.92      0.92       807\n",
            "           1       0.75      0.73      0.74       261\n",
            "\n",
            "    accuracy                           0.87      1068\n",
            "   macro avg       0.83      0.82      0.83      1068\n",
            "weighted avg       0.87      0.87      0.87      1068\n",
            "\n"
          ]
        }
      ]
    },
    {
      "cell_type": "code",
      "source": [
        "# Model 3: CNN\n",
        "model_cnn = Sequential([\n",
        "    Embedding(input_dim=5000, output_dim=64, input_length=max_length),\n",
        "    Conv1D(128, 5, activation='relu'),\n",
        "    GlobalMaxPooling1D(),\n",
        "    Dense(10, activation='relu'),\n",
        "    Dense(1, activation='sigmoid')\n",
        "])\n",
        "model_cnn.compile(loss='binary_crossentropy', optimizer='adam', metrics=['accuracy'])\n",
        "\n",
        "model_cnn.fit(X_train_padded, y_train, epochs=10, validation_data=(X_val_padded, y_val), batch_size=32)"
      ],
      "metadata": {
        "id": "5JK46jyT94Ya",
        "colab": {
          "base_uri": "https://localhost:8080/"
        },
        "outputId": "615efbac-7656-40d5-99a9-300dc5806c1f"
      },
      "execution_count": 17,
      "outputs": [
        {
          "output_type": "stream",
          "name": "stdout",
          "text": [
            "Epoch 1/10\n"
          ]
        },
        {
          "output_type": "stream",
          "name": "stderr",
          "text": [
            "/usr/local/lib/python3.10/dist-packages/keras/src/layers/core/embedding.py:90: UserWarning: Argument `input_length` is deprecated. Just remove it.\n",
            "  warnings.warn(\n"
          ]
        },
        {
          "output_type": "stream",
          "name": "stdout",
          "text": [
            "\u001b[1m101/101\u001b[0m \u001b[32m━━━━━━━━━━━━━━━━━━━━\u001b[0m\u001b[37m\u001b[0m \u001b[1m5s\u001b[0m 32ms/step - accuracy: 0.7492 - loss: 0.5492 - val_accuracy: 0.9053 - val_loss: 0.3228\n",
            "Epoch 2/10\n",
            "\u001b[1m101/101\u001b[0m \u001b[32m━━━━━━━━━━━━━━━━━━━━\u001b[0m\u001b[37m\u001b[0m \u001b[1m4s\u001b[0m 26ms/step - accuracy: 0.9212 - loss: 0.2841 - val_accuracy: 0.9372 - val_loss: 0.1847\n",
            "Epoch 3/10\n",
            "\u001b[1m101/101\u001b[0m \u001b[32m━━━━━━━━━━━━━━━━━━━━\u001b[0m\u001b[37m\u001b[0m \u001b[1m3s\u001b[0m 26ms/step - accuracy: 0.9559 - loss: 0.1262 - val_accuracy: 0.9316 - val_loss: 0.1879\n",
            "Epoch 4/10\n",
            "\u001b[1m101/101\u001b[0m \u001b[32m━━━━━━━━━━━━━━━━━━━━\u001b[0m\u001b[37m\u001b[0m \u001b[1m6s\u001b[0m 34ms/step - accuracy: 0.9795 - loss: 0.0718 - val_accuracy: 0.9297 - val_loss: 0.2233\n",
            "Epoch 5/10\n",
            "\u001b[1m101/101\u001b[0m \u001b[32m━━━━━━━━━━━━━━━━━━━━\u001b[0m\u001b[37m\u001b[0m \u001b[1m4s\u001b[0m 36ms/step - accuracy: 0.9935 - loss: 0.0314 - val_accuracy: 0.9297 - val_loss: 0.2874\n",
            "Epoch 6/10\n",
            "\u001b[1m101/101\u001b[0m \u001b[32m━━━━━━━━━━━━━━━━━━━━\u001b[0m\u001b[37m\u001b[0m \u001b[1m4s\u001b[0m 26ms/step - accuracy: 0.9965 - loss: 0.0216 - val_accuracy: 0.9269 - val_loss: 0.3097\n",
            "Epoch 7/10\n",
            "\u001b[1m101/101\u001b[0m \u001b[32m━━━━━━━━━━━━━━━━━━━━\u001b[0m\u001b[37m\u001b[0m \u001b[1m5s\u001b[0m 29ms/step - accuracy: 0.9981 - loss: 0.0107 - val_accuracy: 0.9325 - val_loss: 0.2633\n",
            "Epoch 8/10\n",
            "\u001b[1m101/101\u001b[0m \u001b[32m━━━━━━━━━━━━━━━━━━━━\u001b[0m\u001b[37m\u001b[0m \u001b[1m4s\u001b[0m 39ms/step - accuracy: 0.9993 - loss: 0.0044 - val_accuracy: 0.9278 - val_loss: 0.3269\n",
            "Epoch 9/10\n",
            "\u001b[1m101/101\u001b[0m \u001b[32m━━━━━━━━━━━━━━━━━━━━\u001b[0m\u001b[37m\u001b[0m \u001b[1m4s\u001b[0m 26ms/step - accuracy: 1.0000 - loss: 0.0014 - val_accuracy: 0.9260 - val_loss: 0.3356\n",
            "Epoch 10/10\n",
            "\u001b[1m101/101\u001b[0m \u001b[32m━━━━━━━━━━━━━━━━━━━━\u001b[0m\u001b[37m\u001b[0m \u001b[1m5s\u001b[0m 26ms/step - accuracy: 1.0000 - loss: 9.6558e-04 - val_accuracy: 0.9269 - val_loss: 0.3475\n"
          ]
        },
        {
          "output_type": "execute_result",
          "data": {
            "text/plain": [
              "<keras.src.callbacks.history.History at 0x785463cb2740>"
            ]
          },
          "metadata": {},
          "execution_count": 17
        }
      ]
    },
    {
      "cell_type": "code",
      "source": [
        "# Evaluate CNN\n",
        "y_pred_cnn = (model_cnn.predict(X_test_padded) > 0.5).astype(\"int32\")\n",
        "print(\"CNN Test Accuracy:\", accuracy_score(y_test, y_pred_cnn))\n",
        "print(\"CNN Test Report:\")\n",
        "print(classification_report(y_test, y_pred_cnn))"
      ],
      "metadata": {
        "id": "CROap7mw97kE",
        "colab": {
          "base_uri": "https://localhost:8080/"
        },
        "outputId": "d216b984-ea79-473a-8a3f-042cd38d5164"
      },
      "execution_count": 18,
      "outputs": [
        {
          "output_type": "stream",
          "name": "stdout",
          "text": [
            "\u001b[1m34/34\u001b[0m \u001b[32m━━━━━━━━━━━━━━━━━━━━\u001b[0m\u001b[37m\u001b[0m \u001b[1m0s\u001b[0m 12ms/step\n",
            "CNN Test Accuracy: 0.9129213483146067\n",
            "CNN Test Report:\n",
            "              precision    recall  f1-score   support\n",
            "\n",
            "           0       0.91      0.98      0.94       807\n",
            "           1       0.92      0.70      0.80       261\n",
            "\n",
            "    accuracy                           0.91      1068\n",
            "   macro avg       0.92      0.84      0.87      1068\n",
            "weighted avg       0.91      0.91      0.91      1068\n",
            "\n"
          ]
        }
      ]
    },
    {
      "cell_type": "code",
      "source": [
        "\n",
        "from sklearn.metrics import roc_curve, auc\n",
        "import matplotlib.pyplot as plt\n",
        "\n",
        "# Get predicted probabilities for each model\n",
        "y_pred_prob_lstm = model_lstm.predict(X_test_padded)\n",
        "y_pred_prob_gru = model_gru.predict(X_test_padded)\n",
        "y_pred_prob_cnn = model_cnn.predict(X_test_padded)\n",
        "\n",
        "# Calculate ROC curves\n",
        "fpr_lstm, tpr_lstm, thresholds_lstm = roc_curve(y_test, y_pred_prob_lstm)\n",
        "fpr_gru, tpr_gru, thresholds_gru = roc_curve(y_test, y_pred_prob_gru)\n",
        "fpr_cnn, tpr_cnn, thresholds_cnn = roc_curve(y_test, y_pred_prob_cnn)\n",
        "\n",
        "# Calculate AUC scores\n",
        "auc_lstm = auc(fpr_lstm, tpr_lstm)\n",
        "auc_gru = auc(fpr_gru, tpr_gru)\n",
        "auc_cnn = auc(fpr_cnn, tpr_cnn)\n",
        "\n",
        "# Plot ROC curves\n",
        "plt.figure(figsize=(8, 6))\n",
        "plt.plot(fpr_lstm, tpr_lstm, label=f'LSTM (AUC = {auc_lstm:.2f})')\n",
        "plt.plot(fpr_gru, tpr_gru, label=f'GRU (AUC = {auc_gru:.2f})')\n",
        "plt.plot(fpr_cnn, tpr_cnn, label=f'CNN (AUC = {auc_cnn:.2f})')\n",
        "plt.plot([0, 1], [0, 1], 'k--')\n",
        "plt.xlabel('False Positive Rate')\n",
        "plt.ylabel('True Positive Rate')\n",
        "plt.title('ROC Curves')\n",
        "plt.legend(loc='lower right')\n",
        "plt.show()"
      ],
      "metadata": {
        "id": "PaFR7FoWtxca",
        "colab": {
          "base_uri": "https://localhost:8080/",
          "height": 615
        },
        "outputId": "3ce87b74-f440-46c5-da30-aac2d6bd73db"
      },
      "execution_count": 19,
      "outputs": [
        {
          "output_type": "stream",
          "name": "stdout",
          "text": [
            "\u001b[1m34/34\u001b[0m \u001b[32m━━━━━━━━━━━━━━━━━━━━\u001b[0m\u001b[37m\u001b[0m \u001b[1m3s\u001b[0m 84ms/step\n",
            "\u001b[1m34/34\u001b[0m \u001b[32m━━━━━━━━━━━━━━━━━━━━\u001b[0m\u001b[37m\u001b[0m \u001b[1m2s\u001b[0m 53ms/step\n",
            "\u001b[1m34/34\u001b[0m \u001b[32m━━━━━━━━━━━━━━━━━━━━\u001b[0m\u001b[37m\u001b[0m \u001b[1m0s\u001b[0m 11ms/step\n"
          ]
        },
        {
          "output_type": "display_data",
          "data": {
            "text/plain": [
              "<Figure size 800x600 with 1 Axes>"
            ],
            "image/png": "[encoded data removed]"
          },
          "metadata": {}
        }
      ]
    },
    {
      "cell_type": "code",
      "source": [
        "from sklearn.metrics import precision_score, recall_score, f1_score\n",
        "\n",
        "# Calculate precision, recall, and F1-score for each model\n",
        "precision_lstm = precision_score(y_test, y_pred_lstm)\n",
        "recall_lstm = recall_score(y_test, y_pred_lstm)\n",
        "f1_lstm = f1_score(y_test, y_pred_lstm)\n",
        "\n",
        "precision_gru = precision_score(y_test, y_pred_gru)\n",
        "recall_gru = recall_score(y_test, y_pred_gru)\n",
        "f1_gru = f1_score(y_test, y_pred_gru)\n",
        "\n",
        "precision_cnn = precision_score(y_test, y_pred_cnn)\n",
        "recall_cnn = recall_score(y_test, y_pred_cnn)\n",
        "f1_cnn = f1_score(y_test, y_pred_cnn)\n",
        "\n",
        "# Create a dictionary to store the metrics\n",
        "metrics = {\n",
        "    'Model': ['LSTM', 'GRU', 'CNN'],\n",
        "    'Accuracy': [accuracy_score(y_test, y_pred_lstm), accuracy_score(y_test, y_pred_gru), accuracy_score(y_test, y_pred_cnn)],\n",
        "    'Precision': [precision_lstm, precision_gru, precision_cnn],\n",
        "    'Recall': [recall_lstm, recall_gru, recall_cnn],\n",
        "    'F1-Score': [f1_lstm, f1_gru, f1_cnn],\n",
        "    'AUC': [auc_lstm, auc_gru, auc_cnn]\n",
        "}\n",
        "\n",
        "# Create a pandas DataFrame from the metrics dictionary\n",
        "df_metrics = pd.DataFrame(metrics)\n",
        "\n",
        "# Display the DataFrame as a table\n",
        "print(df_metrics)\n"
      ],
      "metadata": {
        "colab": {
          "base_uri": "https://localhost:8080/"
        },
        "id": "WcdJcKRcpRCS",
        "outputId": "9e437533-006e-4a71-d04d-b48d7b28dc98"
      },
      "execution_count": 20,
      "outputs": [
        {
          "output_type": "stream",
          "name": "stdout",
          "text": [
            "  Model  Accuracy  Precision    Recall  F1-Score       AUC\n",
            "0  LSTM  0.886704   0.824074  0.681992  0.746331  0.931091\n",
            "1   GRU  0.874532   0.750988  0.727969  0.739300  0.921036\n",
            "2   CNN  0.912921   0.920000  0.704981  0.798265  0.935749\n"
          ]
        }
      ]
    },
    {
      "cell_type": "code",
      "source": [],
      "metadata": {
        "id": "d-57vxQrpdpF"
      },
      "execution_count": null,
      "outputs": []
    }
  ],
  "metadata": {
    "colab": {
      "provenance": []
    },
    "kernelspec": {
      "display_name": "Python 3",
      "name": "python3"
    },
    "language_info": {
      "name": "python"
    }
  },
  "nbformat": 4,
  "nbformat_minor": 0
}